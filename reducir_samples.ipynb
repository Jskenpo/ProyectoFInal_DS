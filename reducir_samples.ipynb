{
 "cells": [
  {
   "cell_type": "code",
   "execution_count": 3,
   "metadata": {},
   "outputs": [],
   "source": [
    "# librerias\n",
    "import pandas as pd"
   ]
  },
  {
   "cell_type": "code",
   "execution_count": 1,
   "metadata": {},
   "outputs": [
    {
     "name": "stderr",
     "output_type": "stream",
     "text": [
      "c:\\Users\\Joabh\\anaconda3\\envs\\proyectoDS\\Lib\\site-packages\\tqdm\\auto.py:21: TqdmWarning: IProgress not found. Please update jupyter and ipywidgets. See https://ipywidgets.readthedocs.io/en/stable/user_install.html\n",
      "  from .autonotebook import tqdm as notebook_tqdm\n"
     ]
    },
    {
     "name": "stdout",
     "output_type": "stream",
     "text": [
      "Resuming download from 3889168384 bytes (717552523 bytes left)...\n",
      "Resuming download from https://www.kaggle.com/api/v1/datasets/download/mkechinov/ecommerce-behavior-data-from-multi-category-store?dataset_version_number=8 (3889168384/4606720907) bytes left.\n"
     ]
    },
    {
     "name": "stderr",
     "output_type": "stream",
     "text": [
      "100%|██████████| 4.29G/4.29G [05:04<00:00, 2.36MB/s]"
     ]
    },
    {
     "name": "stdout",
     "output_type": "stream",
     "text": [
      "Extracting files...\n"
     ]
    },
    {
     "name": "stderr",
     "output_type": "stream",
     "text": [
      "\n"
     ]
    },
    {
     "name": "stdout",
     "output_type": "stream",
     "text": [
      "Path to dataset files: C:\\Users\\Joabh\\.cache\\kagglehub\\datasets\\mkechinov\\ecommerce-behavior-data-from-multi-category-store\\versions\\8\n"
     ]
    }
   ],
   "source": [
    "import kagglehub\n",
    "\n",
    "# Download latest version\n",
    "path = kagglehub.dataset_download(\"mkechinov/ecommerce-behavior-data-from-multi-category-store\")\n",
    "\n",
    "print(\"Path to dataset files:\", path)"
   ]
  },
  {
   "cell_type": "code",
   "execution_count": 7,
   "metadata": {},
   "outputs": [
    {
     "name": "stderr",
     "output_type": "stream",
     "text": [
      "C:\\Users\\Joabh\\AppData\\Local\\Temp\\ipykernel_20772\\2722909316.py:17: DeprecationWarning: DataFrameGroupBy.apply operated on the grouping columns. This behavior is deprecated, and in a future version of pandas the grouping columns will be excluded from the operation. Either pass `include_groups=False` to exclude the groupings or explicitly select the grouping columns after groupby to silence this warning.\n",
      "  chunk_sample = chunk.groupby('hour').apply(lambda x: x.sample(frac=0.01, random_state=1)).reset_index(drop=True)\n",
      "C:\\Users\\Joabh\\AppData\\Local\\Temp\\ipykernel_20772\\2722909316.py:17: DeprecationWarning: DataFrameGroupBy.apply operated on the grouping columns. This behavior is deprecated, and in a future version of pandas the grouping columns will be excluded from the operation. Either pass `include_groups=False` to exclude the groupings or explicitly select the grouping columns after groupby to silence this warning.\n",
      "  chunk_sample = chunk.groupby('hour').apply(lambda x: x.sample(frac=0.01, random_state=1)).reset_index(drop=True)\n",
      "C:\\Users\\Joabh\\AppData\\Local\\Temp\\ipykernel_20772\\2722909316.py:17: DeprecationWarning: DataFrameGroupBy.apply operated on the grouping columns. This behavior is deprecated, and in a future version of pandas the grouping columns will be excluded from the operation. Either pass `include_groups=False` to exclude the groupings or explicitly select the grouping columns after groupby to silence this warning.\n",
      "  chunk_sample = chunk.groupby('hour').apply(lambda x: x.sample(frac=0.01, random_state=1)).reset_index(drop=True)\n"
     ]
    },
    {
     "name": "stdout",
     "output_type": "stream",
     "text": [
      "Se ha generado una muestra aleatoria de 25000 filas y se ha guardado en C:/Users/Joabh/Documents/GitHub/ProyectoFInal_DS/sampled_data_25k.csv.\n"
     ]
    }
   ],
   "source": [
    "\n",
    "# Path del dataset\n",
    "dataset_path = \"C:/Users/Joabh/.cache/kagglehub/datasets/mkechinov/ecommerce-behavior-data-from-multi-category-store/versions/8/2019-Nov.csv\"\n",
    "\n",
    "# Tamaño objetivo de la muestra\n",
    "target_sample_size = 25000\n",
    "\n",
    "# Lectura en chunks, muestreo aleatorio y acumulación\n",
    "sampled_data = []  # Lista para guardar las muestras\n",
    "chunk_size = 10**6  # Tamaño del chunk\n",
    "\n",
    "# Iteramos sobre cada chunk del CSV\n",
    "for chunk in pd.read_csv(dataset_path, chunksize=chunk_size, parse_dates=['event_time']):\n",
    "    # Convertir event_time a datetime y extraer la hora\n",
    "    chunk['hour'] = chunk['event_time'].dt.hour\n",
    "    \n",
    "    # Muestreo estratificado por hora (cada hora estará representada proporcionalmente)\n",
    "    chunk_sample = chunk.groupby('hour').apply(lambda x: x.sample(frac=0.01, random_state=1)).reset_index(drop=True)\n",
    "    sampled_data.append(chunk_sample)\n",
    "    \n",
    "    # Si ya hemos alcanzado o superado el tamaño de la muestra objetivo, rompemos el ciclo\n",
    "    if sum(len(sample) for sample in sampled_data) >= target_sample_size:\n",
    "        break\n",
    "\n",
    "# Concatenamos las muestras en un DataFrame\n",
    "final_sample = pd.concat(sampled_data)\n",
    "\n",
    "# Si tenemos más de 25k filas, tomamos una muestra aleatoria final\n",
    "if len(final_sample) > target_sample_size:\n",
    "    final_sample = final_sample.sample(n=target_sample_size, random_state=1)\n",
    "\n",
    "# Guardar la muestra final a un archivo CSV\n",
    "output_path = \"C:/Users/Joabh/Documents/GitHub/ProyectoFInal_DS/sampled_data_25k.csv\"\n",
    "final_sample.to_csv(output_path, index=False)\n",
    "\n",
    "print(f\"Se ha generado una muestra aleatoria de {len(final_sample)} filas y se ha guardado en {output_path}.\")\n",
    "\n",
    "\n"
   ]
  }
 ],
 "metadata": {
  "kernelspec": {
   "display_name": "proyectoDS",
   "language": "python",
   "name": "python3"
  },
  "language_info": {
   "codemirror_mode": {
    "name": "ipython",
    "version": 3
   },
   "file_extension": ".py",
   "mimetype": "text/x-python",
   "name": "python",
   "nbconvert_exporter": "python",
   "pygments_lexer": "ipython3",
   "version": "3.13.0"
  }
 },
 "nbformat": 4,
 "nbformat_minor": 2
}
